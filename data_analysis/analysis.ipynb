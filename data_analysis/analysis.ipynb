{
 "cells": [
  {
   "cell_type": "markdown",
   "source": [
    "# Sponsor Net - Dataset analysis"
   ],
   "metadata": {}
  },
  {
   "cell_type": "code",
   "execution_count": 1,
   "source": [
    "import sqlite3\n",
    "import numpy as np\n",
    "import pandas as pd\n",
    "import matplotlib.pyplot as plt\n",
    "pd.options.display.float_format = '{:20,.2f}'.format"
   ],
   "outputs": [],
   "metadata": {}
  },
  {
   "cell_type": "code",
   "execution_count": 2,
   "source": [
    "con = sqlite3.connect('../data/database.db')\n",
    "df = pd.read_sql_query(\"SELECT * FROM sponsorTimes --LIMIT 1000\", con)\n",
    "df['duration'] = df['endTime'] - df['startTime']\n",
    "df['category'] = df['category'].astype('category')\n",
    "df.info()"
   ],
   "outputs": [
    {
     "output_type": "stream",
     "name": "stdout",
     "text": [
      "<class 'pandas.core.frame.DataFrame'>\n",
      "RangeIndex: 1246389 entries, 0 to 1246388\n",
      "Data columns (total 17 columns):\n",
      " #   Column          Non-Null Count    Dtype   \n",
      "---  ------          --------------    -----   \n",
      " 0   videoID         1246389 non-null  object  \n",
      " 1   startTime       1246389 non-null  float64 \n",
      " 2   endTime         1246389 non-null  float64 \n",
      " 3   votes           1246389 non-null  int64   \n",
      " 4   locked          1246389 non-null  int64   \n",
      " 5   incorrectVotes  1246389 non-null  int64   \n",
      " 6   UUID            1246389 non-null  object  \n",
      " 7   userID          1246389 non-null  object  \n",
      " 8   timeSubmitted   1246389 non-null  float64 \n",
      " 9   views           1246389 non-null  int64   \n",
      " 10  category        1246389 non-null  category\n",
      " 11  service         1246389 non-null  object  \n",
      " 12  videoDuration   1246389 non-null  int64   \n",
      " 13  hidden          1246389 non-null  int64   \n",
      " 14  shadowHidden    1246389 non-null  int64   \n",
      " 15  hashedVideoID   1246389 non-null  object  \n",
      " 16  duration        1246389 non-null  float64 \n",
      "dtypes: category(1), float64(4), int64(7), object(5)\n",
      "memory usage: 153.3+ MB\n"
     ]
    }
   ],
   "metadata": {}
  },
  {
   "cell_type": "markdown",
   "source": [
    "## Filtering the dataset\n",
    "We filter the SponsorBlock dataset in order to only use the most trainable and trustworthy data."
   ],
   "metadata": {}
  },
  {
   "cell_type": "code",
   "execution_count": 3,
   "source": [
    "query = (df.votes >= 0) & (df.duration < 1000) & (df.category == 'sponsor')"
   ],
   "outputs": [],
   "metadata": {}
  },
  {
   "cell_type": "markdown",
   "source": [
    "## Count\n",
    "This calculates the possible number of segments that could be used to assemble a training data set."
   ],
   "metadata": {}
  },
  {
   "cell_type": "code",
   "execution_count": 5,
   "source": [
    "print(\"segment count:\")\n",
    "print(df[query].count())\n",
    "print(f\"video count: {df[query].videoID.count()}\")"
   ],
   "outputs": [
    {
     "output_type": "stream",
     "name": "stdout",
     "text": [
      "segment count:\n",
      "videoID           488371\n",
      "startTime         488371\n",
      "endTime           488371\n",
      "votes             488371\n",
      "locked            488371\n",
      "incorrectVotes    488371\n",
      "UUID              488371\n",
      "userID            488371\n",
      "timeSubmitted     488371\n",
      "views             488371\n",
      "category          488371\n",
      "service           488371\n",
      "videoDuration     488371\n",
      "hidden            488371\n",
      "shadowHidden      488371\n",
      "hashedVideoID     488371\n",
      "duration          488371\n",
      "dtype: int64\n",
      "video count: 488371\n"
     ]
    }
   ],
   "metadata": {}
  },
  {
   "cell_type": "markdown",
   "source": [
    "## Some statistical data about the votes and duration of every segment\n",
    "We decided to only include segments with at least 0 votes. SponsorBlock does not keep track of the individual number of up- and downvotes, it only provides it as the sum of all up- and down votes."
   ],
   "metadata": {}
  },
  {
   "cell_type": "code",
   "execution_count": 6,
   "source": [
    "df.loc[query, ['votes', 'duration']].describe()"
   ],
   "outputs": [
    {
     "output_type": "execute_result",
     "data": {
      "text/html": [
       "<div>\n",
       "<style scoped>\n",
       "    .dataframe tbody tr th:only-of-type {\n",
       "        vertical-align: middle;\n",
       "    }\n",
       "\n",
       "    .dataframe tbody tr th {\n",
       "        vertical-align: top;\n",
       "    }\n",
       "\n",
       "    .dataframe thead th {\n",
       "        text-align: right;\n",
       "    }\n",
       "</style>\n",
       "<table border=\"1\" class=\"dataframe\">\n",
       "  <thead>\n",
       "    <tr style=\"text-align: right;\">\n",
       "      <th></th>\n",
       "      <th>votes</th>\n",
       "      <th>duration</th>\n",
       "    </tr>\n",
       "  </thead>\n",
       "  <tbody>\n",
       "    <tr>\n",
       "      <th>count</th>\n",
       "      <td>488,371.00</td>\n",
       "      <td>488,371.00</td>\n",
       "    </tr>\n",
       "    <tr>\n",
       "      <th>mean</th>\n",
       "      <td>49.94</td>\n",
       "      <td>53.51</td>\n",
       "    </tr>\n",
       "    <tr>\n",
       "      <th>std</th>\n",
       "      <td>648.28</td>\n",
       "      <td>55.25</td>\n",
       "    </tr>\n",
       "    <tr>\n",
       "      <th>min</th>\n",
       "      <td>0.00</td>\n",
       "      <td>0.65</td>\n",
       "    </tr>\n",
       "    <tr>\n",
       "      <th>25%</th>\n",
       "      <td>0.00</td>\n",
       "      <td>19.00</td>\n",
       "    </tr>\n",
       "    <tr>\n",
       "      <th>50%</th>\n",
       "      <td>0.00</td>\n",
       "      <td>41.18</td>\n",
       "    </tr>\n",
       "    <tr>\n",
       "      <th>75%</th>\n",
       "      <td>2.00</td>\n",
       "      <td>71.07</td>\n",
       "    </tr>\n",
       "    <tr>\n",
       "      <th>max</th>\n",
       "      <td>12,207.00</td>\n",
       "      <td>998.21</td>\n",
       "    </tr>\n",
       "  </tbody>\n",
       "</table>\n",
       "</div>"
      ],
      "text/plain": [
       "                     votes             duration\n",
       "count           488,371.00           488,371.00\n",
       "mean                 49.94                53.51\n",
       "std                 648.28                55.25\n",
       "min                   0.00                 0.65\n",
       "25%                   0.00                19.00\n",
       "50%                   0.00                41.18\n",
       "75%                   2.00                71.07\n",
       "max              12,207.00               998.21"
      ]
     },
     "metadata": {},
     "execution_count": 6
    }
   ],
   "metadata": {}
  },
  {
   "cell_type": "markdown",
   "source": [
    "## Vote density\n",
    "You can see that there is a small peak around 10000 votes. We hypothesize that the votes of VIP users count as 10000 votes."
   ],
   "metadata": {}
  },
  {
   "cell_type": "code",
   "execution_count": 7,
   "source": [
    "df[query].votes.plot.density()"
   ],
   "outputs": [
    {
     "output_type": "execute_result",
     "data": {
      "text/plain": [
       "<AxesSubplot:ylabel='Density'>"
      ]
     },
     "metadata": {},
     "execution_count": 7
    },
    {
     "output_type": "display_data",
     "data": {
      "image/png": "[encoded data removed]",
      "text/plain": [
       "<Figure size 432x288 with 1 Axes>"
      ]
     },
     "metadata": {
      "needs_background": "light"
     }
    }
   ],
   "metadata": {}
  },
  {
   "cell_type": "code",
   "execution_count": 8,
   "source": [
    "df[(df.votes > -10) & (df.votes < 10) & (df.duration < 1000) & ((df.category == 'sponsor') | (df.category == 'interaction')| (df.category == 'selfpromo'))].votes.plot.density()"
   ],
   "outputs": [
    {
     "output_type": "execute_result",
     "data": {
      "text/plain": [
       "<AxesSubplot:ylabel='Density'>"
      ]
     },
     "metadata": {},
     "execution_count": 8
    },
    {
     "output_type": "display_data",
     "data": {
      "image/png": "[encoded data removed]",
      "text/plain": [
       "<Figure size 432x288 with 1 Axes>"
      ]
     },
     "metadata": {
      "needs_background": "light"
     }
    }
   ],
   "metadata": {}
  },
  {
   "cell_type": "code",
   "execution_count": 9,
   "source": [
    "df[(df.votes > 9500) & (df.votes < 10100) & (df.duration < 1000) & ((df.category == 'sponsor') | (df.category == 'interaction')| (df.category == 'selfpromo'))].votes.plot.density()"
   ],
   "outputs": [
    {
     "output_type": "execute_result",
     "data": {
      "text/plain": [
       "<AxesSubplot:ylabel='Density'>"
      ]
     },
     "metadata": {},
     "execution_count": 9
    },
    {
     "output_type": "display_data",
     "data": {
      "image/png": "[encoded data removed]",
      "text/plain": [
       "<Figure size 432x288 with 1 Axes>"
      ]
     },
     "metadata": {
      "needs_background": "light"
     }
    }
   ],
   "metadata": {}
  },
  {
   "cell_type": "markdown",
   "source": [
    "## Segment Durations\n",
    "This information could be used to exclude segments that are too long to be trusted."
   ],
   "metadata": {}
  },
  {
   "cell_type": "code",
   "execution_count": 10,
   "source": [
    "df[query].duration.describe()"
   ],
   "outputs": [
    {
     "output_type": "execute_result",
     "data": {
      "text/plain": [
       "count             488,371.00\n",
       "mean                   53.51\n",
       "std                    55.25\n",
       "min                     0.65\n",
       "25%                    19.00\n",
       "50%                    41.18\n",
       "75%                    71.07\n",
       "max                   998.21\n",
       "Name: duration, dtype: float64"
      ]
     },
     "metadata": {},
     "execution_count": 10
    }
   ],
   "metadata": {}
  },
  {
   "cell_type": "code",
   "execution_count": 11,
   "source": [
    "df[query].duration.plot.density()"
   ],
   "outputs": [
    {
     "output_type": "execute_result",
     "data": {
      "text/plain": [
       "<AxesSubplot:ylabel='Density'>"
      ]
     },
     "metadata": {},
     "execution_count": 11
    },
    {
     "output_type": "display_data",
     "data": {
      "image/png": "[encoded data removed]",
      "text/plain": [
       "<Figure size 432x288 with 1 Axes>"
      ]
     },
     "metadata": {
      "needs_background": "light"
     }
    }
   ],
   "metadata": {}
  },
  {
   "cell_type": "markdown",
   "source": [
    "## Categories\n",
    "There are eight different categories, three of which could be used to train the network: sponsor, selfpromo and interaction."
   ],
   "metadata": {}
  },
  {
   "cell_type": "code",
   "execution_count": 12,
   "source": [
    "df.category"
   ],
   "outputs": [
    {
     "output_type": "execute_result",
     "data": {
      "text/plain": [
       "0          sponsor\n",
       "1          sponsor\n",
       "2          sponsor\n",
       "3          sponsor\n",
       "4          sponsor\n",
       "            ...   \n",
       "1246384    sponsor\n",
       "1246385      outro\n",
       "1246386      outro\n",
       "1246387    sponsor\n",
       "1246388      outro\n",
       "Name: category, Length: 1246389, dtype: category\n",
       "Categories (8, object): ['interaction', 'intro', 'moreCategories', 'music_offtopic', 'offtopic', 'outro', 'selfpromo', 'sponsor']"
      ]
     },
     "metadata": {},
     "execution_count": 12
    }
   ],
   "metadata": {}
  }
 ],
 "metadata": {
  "kernelspec": {
   "name": "python3",
   "display_name": "Python 3.8.10 64-bit ('venv': venv)"
  },
  "language_info": {
   "codemirror_mode": {
    "name": "ipython",
    "version": 3
   },
   "file_extension": ".py",
   "mimetype": "text/x-python",
   "name": "python",
   "nbconvert_exporter": "python",
   "pygments_lexer": "ipython3",
   "version": "3.8.10"
  },
  "interpreter": {
   "hash": "28c26ef90adce4f8c3393dff459a1b729d766ecc4b03d0f2856d927c5f52b41b"
  }
 },
 "nbformat": 4,
 "nbformat_minor": 4
}